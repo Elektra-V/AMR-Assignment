{
 "cells": [
  {
   "cell_type": "markdown",
   "id": "8f8dadca",
   "metadata": {
    "deletable": false,
    "editable": false,
    "nbassignment": {
     "type": "header"
    },
    "nbgrader": {
     "cell_type": "markdown",
     "checksum": "ce3a2d4b5331386359be4f39c40ac6c8",
     "grade": false,
     "grade_id": "HeaderA",
     "locked": true,
     "schema_version": 3,
     "solution": false,
     "task": false
    }
   },
   "source": [
    "<div class=\"alert alert-block alert-info\">\n",
    "    <h1>Autonomous Mobile Robots</h1>\n",
    "    <h2> AMR_WS23_Assignment02 </h2>\n",
    "    <h3>General Information:</h3>\n",
    "    <p>Please do not add or delete any cells. Answers belong into the corresponding cells (below the question). If a function is given (either as a signature or a full function), you should not change the name, arguments or return value of the function.<br><br> If you encounter empty cells underneath the answer that can not be edited, please ignore them, they are for testing purposes.<br><br>When editing an assignment there can be the case that there are variables in the kernel. To make sure your assignment works, please restart the kernel and run all cells before submitting (e.g. via <i>Kernel -> Restart & Run All</i>).</p>\n",
    "    <p>Code cells where you are supposed to give your answer often include the line  ```raise NotImplementedError```. This makes it easier to automatically grade answers. If you edit the cell please outcomment or delete this line.</p>\n",
    "    <h3>Submission:</h3>\n",
    "    <p>Please submit your notebook via the web interface (in the main view -> Assignments -> Submit). The assignment is due on <b>29-10-2023</b> at <b>18:00 (6 PM)<b>.</p>\n",
    "    <h3>Questions about the Assignment:</h3>\n",
    "    <p>Proactive discussions lead to better understanding. If you have questions about the assignment you are highly encourageed to post them in the LEA forum. Let's keep the forum active.</p>\n",
    "    \n",
    "</div>"
   ]
  },
  {
   "cell_type": "markdown",
   "id": "3ee40db3",
   "metadata": {
    "deletable": false,
    "editable": false,
    "nbgrader": {
     "cell_type": "markdown",
     "checksum": "b9175f5eee07e410cde35d1baab4cea2",
     "grade": false,
     "grade_id": "multi_sensor_data_visual_analysis_Amulti_sensor_data_visual_analysis_Bmulti_sensor_data_visual_analysis_Cmulti_sensor_data_visual_analysis_Dmulti_sensor_data_visual_analysis_Emulti_sensor_data_visual_analysis_Fmulti_sensor_data_visual_analysis_Gmulti_sensor_data_visual_analysis_Hmulti_sensor_data_visual_analysis_Imulti_sensor_data_visual_analysis_J_Header",
     "locked": true,
     "schema_version": 3,
     "solution": false,
     "task": false
    }
   },
   "source": [
    "# Multi-sensor Data Visualisation, Analysis, and Filtering\n",
    "\n",
    "In this assignment, you will visualise the data from different sensors installed on Robile which include 2D and 3D LiDARs, IMU, and RGB-D camera. For getting accustomed to visualisation tools, you will also detect some anomalies added to the LiDAR and RGB-D sensors. You will detect the approximate time or range of time at which these anomalies are introduced.\n",
    "\n",
    "Further, you will apply different filtering methods such as mean, median, and  reduction filtering over 2D LiDAR data and IMU data.\n",
    "\n",
    "Please download the bag file from the cloud storage. The link and the password are as follows,  \n",
    "**Bag file (3.1GB):** https://nx21454.your-storageshare.de/s/w8C6gpHFLgHy9z3  \n",
    "**Password:** `*/R&dD*O*3`  \n"
   ]
  },
  {
   "cell_type": "markdown",
   "id": "19f1bd53",
   "metadata": {
    "deletable": false,
    "editable": false,
    "nbgrader": {
     "cell_type": "markdown",
     "checksum": "6d80b4b530fbd595404fac16422767cb",
     "grade": false,
     "grade_id": "multi_sensor_data_visual_analysis_A_Description0",
     "locked": true,
     "schema_version": 3,
     "solution": false,
     "task": false
    }
   },
   "source": [
    "Let us first import all necessary packages. Please ignore the 'YOUR CODE HERE' prompt in the below cell."
   ]
  },
  {
   "cell_type": "code",
   "execution_count": 1,
   "id": "3ab9a5b9",
   "metadata": {
    "ExecuteTime": {
     "end_time": "2023-10-20T15:07:46.560866Z",
     "start_time": "2023-10-20T15:07:46.236422Z"
    },
    "deletable": false,
    "nbgrader": {
     "cell_type": "code",
     "checksum": "c4506a6e9bc2c14d1c239293bf0d5edd",
     "grade": true,
     "grade_id": "multi_sensor_data_visual_analysis_A",
     "locked": false,
     "points": 0,
     "schema_version": 3,
     "solution": true,
     "task": false
    }
   },
   "outputs": [],
   "source": [
    "import rclpy\n",
    "import rosbag2_py\n",
    "from rosbag2_py import StorageOptions, ConverterOptions, SequentialReader\n",
    "from rclpy.serialization import deserialize_message\n",
    "\n",
    "from sensor_msgs.msg import LaserScan\n",
    "from sensor_msgs.msg import PointCloud2\n",
    "from sensor_msgs.msg import Image\n",
    "from tf2_msgs.msg import TFMessage\n",
    "\n",
    "import tf2_ros\n",
    "import tf_transformations\n",
    "from geometry_msgs.msg import Quaternion\n",
    "\n",
    "import pandas as pd\n",
    "import numpy as np\n",
    "import matplotlib.pyplot as plt\n",
    "\n",
    "# YOUR CODE HERE\n",
    "# raise NotImplementedError()\n"
   ]
  },
  {
   "cell_type": "markdown",
   "id": "6ddd2589",
   "metadata": {
    "deletable": false,
    "editable": false,
    "nbgrader": {
     "cell_type": "markdown",
     "checksum": "84b87fd8bc4ffc248baedf6b1c39a91e",
     "grade": false,
     "grade_id": "multi_sensor_data_visual_analysis_B_Description0",
     "locked": true,
     "schema_version": 3,
     "solution": false,
     "task": false
    }
   },
   "source": [
    "## LiDAR visualisation\n",
    "\n",
    "An anomaly is introduced by covering the LiDAR sensor by an opaque object, because of which we loose the laser scan data for approximately 2 seconds. Using `foxglove` visualisation tool, find the approximate time period in which the 2D LiDAR was covered. Plotjuggler will not allow to get all indices of the scan data in a single selection, so it is more suitable to visualise single variable which is a function of time (eg: imu data).\n",
    "\n",
    "After visualising the data, please take a screenshot of it and upload the screenshot to the `img` folder. Further, embed it to the below markdown cell using this syntax in new line: `![file_name.png](attachment:file_name.png)`, where `file_name` is the image file name.\n",
    "\n",
    "**Useful links:**\n",
    "\n",
    "* [Foxglove weblink](https://studio.foxglove.dev/)\n",
    "* [Foxglove download instructions](https://foxglove.dev/download)\n",
    "* [Plot Juggler download instructions and tutorials](https://github.com/facontidavide/PlotJuggler)\n",
    "\n",
    "In `foxglove` you can directly upload the `.db3` file and use the different panel options to visualise the data.\n",
    "In plotjuggler, you can upload the `.yaml` file located in the folder of the `.db3` bag file and select the topics to be visualised in the prompt, which is displayed after selecting yaml file. Later the corresponding fields can be dragged and dropped to visualise them. \n",
    "\n",
    "**Note:** Due to the size of the data, it might not be possible to visualize all the data together in `foxglove` based on your system configuration. In that case, please only visualise necessary data according to the tasks. It is recommended to download the tool instead of using the web application for better handling of a large amount of data."
   ]
  },
  {
   "cell_type": "markdown",
   "id": "ddd1d299",
   "metadata": {
    "deletable": false,
    "nbgrader": {
     "cell_type": "markdown",
     "checksum": "e1fd8cd2dfe128cb32cf8883ab98fc0b",
     "grade": true,
     "grade_id": "multi_sensor_data_visual_analysis_B",
     "locked": false,
     "points": 0,
     "schema_version": 3,
     "solution": true,
     "task": false
    }
   },
   "source": [
    "YOUR ANSWER HERE\n",
    "\n",
    "\n",
    "the time period is 5:19:16.934 to 5:19:19.173 (The laser was covered with Opaque object\n",
    "\n",
    "![Opaque_Object.png](AMR_WS23_Assignment02_worksheet_files/img/opaque_object.png)\n"
   ]
  },
  {
   "cell_type": "markdown",
   "id": "72029010",
   "metadata": {
    "deletable": false,
    "editable": false,
    "nbgrader": {
     "cell_type": "markdown",
     "checksum": "3ab2a2a0de7d87c11df129e4f3a5a058",
     "grade": false,
     "grade_id": "multi_sensor_data_visual_analysis_C_Description0",
     "locked": true,
     "schema_version": 3,
     "solution": false,
     "task": false
    }
   },
   "source": [
    "## 3D LiDAR from robosense and depth data from realsense sensor visualisation\n",
    "\n",
    "At any time instance, take the screenshot of the 3D LiDAR data from the robosense data using any of the above visualisation tools and embed the picture in the below cell."
   ]
  },
  {
   "cell_type": "markdown",
   "id": "f205d18d",
   "metadata": {
    "deletable": false,
    "nbgrader": {
     "cell_type": "markdown",
     "checksum": "4a4fbe87a191e991ffbcfd600c79ceca",
     "grade": true,
     "grade_id": "multi_sensor_data_visual_analysis_C",
     "locked": false,
     "points": 0,
     "schema_version": 3,
     "solution": true,
     "task": false
    }
   },
   "source": [
    "YOUR ANSWER HERE\n",
    "\n",
    "\n",
    "![3D_Lidar.png](AMR_WS23_Assignment02_worksheet_files/img/3D_Lidar.png)\n"
   ]
  },
  {
   "cell_type": "markdown",
   "id": "e0140888",
   "metadata": {
    "deletable": false,
    "editable": false,
    "nbgrader": {
     "cell_type": "markdown",
     "checksum": "ce09aed829cc6de76e800ec1ac96f2bd",
     "grade": false,
     "grade_id": "multi_sensor_data_visual_analysis_D_Description0",
     "locked": true,
     "schema_version": 3,
     "solution": false,
     "task": false
    }
   },
   "source": [
    "## RGB image visualisation\n",
    "\n",
    "Extract the image from the realsense camera and plot it from a frame which is closest to the input time.\n",
    "\n",
    "**Hint:** You might take a look at different options under panel tab in `foxglove` tool"
   ]
  },
  {
   "cell_type": "markdown",
   "id": "a011a4ef",
   "metadata": {
    "deletable": false,
    "nbgrader": {
     "cell_type": "markdown",
     "checksum": "e67fee94d1c8bbff53686991c4b8118e",
     "grade": true,
     "grade_id": "multi_sensor_data_visual_analysis_D",
     "locked": false,
     "points": 0,
     "schema_version": 3,
     "solution": true,
     "task": false
    }
   },
   "source": [
    "YOUR ANSWER HERE\n",
    "\n",
    "![RGB_Image.png](AMR_WS23_Assignment02_worksheet_files/img/RGB_Image.png)\n"
   ]
  },
  {
   "attachments": {
    "IMUvisualisation.png": {
     "image/png": "[encoded data removed]"
    }
   },
   "cell_type": "markdown",
   "id": "c72d2fa6",
   "metadata": {
    "deletable": false,
    "editable": false,
    "nbgrader": {
     "cell_type": "markdown",
     "checksum": "87b5476bc4cfca7908f7572e44b143d3",
     "grade": false,
     "grade_id": "multi_sensor_data_visual_analysis_E_Description0",
     "locked": true,
     "schema_version": 3,
     "solution": false,
     "task": false
    }
   },
   "source": [
    "## IMU data visualisation\n",
    "\n",
    "To record the scenario of impact on the robot, it is 'kicked' after it comes to halt. Using the IMU readings (acceleration), find the time instance at which the robot detects this impact. However the spikes in the IMU data are also caused by start of motion of the robot. So, you have to label the spikes accordingly from the data that you visualise.\n",
    "\n",
    "You can either use `foxglove` or `plojuggler` visualisation tool to plot the IMU acceleraion readings. \n",
    "However, by using `foxglove`, it is helpful to simultaniously look at the robot moving and the corresponding IMU readings. \n",
    "Below is example of how the visualisation would look,\n",
    "\n",
    "![IMUvisualisation.png](attachment:IMUvisualisation.png)"
   ]
  },
  {
   "cell_type": "markdown",
   "id": "3bb196bc",
   "metadata": {
    "deletable": false,
    "nbgrader": {
     "cell_type": "markdown",
     "checksum": "dbfc38c9fba64abee32b291666a77c61",
     "grade": true,
     "grade_id": "multi_sensor_data_visual_analysis_E",
     "locked": false,
     "points": 0,
     "schema_version": 3,
     "solution": true,
     "task": false
    }
   },
   "source": [
    "YOUR ANSWER HERE\n",
    "\n",
    "![plot_juggler_kicked.png](AMR_WS23_Assignment02_worksheet_files/img/plot_juggler_kicked.png)\n",
    "![IMU_data_kicked.png](AMR_WS23_Assignment02_worksheet_files/img/IMU_data_kicked.png)\n",
    "\n"
   ]
  },
  {
   "cell_type": "markdown",
   "id": "66d0cd30",
   "metadata": {
    "deletable": false,
    "editable": false,
    "nbgrader": {
     "cell_type": "markdown",
     "checksum": "82a5dac8cf33710cbde4b50c0cb55d2e",
     "grade": false,
     "grade_id": "multi_sensor_data_visual_analysis_F_Description0",
     "locked": true,
     "schema_version": 3,
     "solution": false,
     "task": false
    }
   },
   "source": [
    "## Filtering\n",
    "\n",
    "Generally sensor readings consists of outliers and noise in the measurements. You will implement two filtering techniques of median and mean filters on the 2D LiDAR data and the IMU data. Before looking into filters, we will extract necessary data from the bag files.\n",
    "\n",
    "You can plot the graphs on your local machine and provide your code in this notebook.\n",
    "\n",
    "### Extraction of data from bag files\n",
    "\n",
    "Similar to the first assignment, extract both 2D LiDAR data and IMU acceleration data from the bag file. Parameterise your function with the time closest to which you want to fetch the instance of data."
   ]
  },
  {
   "cell_type": "code",
   "execution_count": 5,
   "id": "2fd93770",
   "metadata": {
    "deletable": false,
    "nbgrader": {
     "cell_type": "code",
     "checksum": "3d1ca7262c6ff4c3630defc9395860ba",
     "grade": true,
     "grade_id": "multi_sensor_data_visual_analysis_F",
     "locked": false,
     "points": 0,
     "schema_version": 3,
     "solution": true,
     "task": false
    }
   },
   "outputs": [
    {
     "name": "stdout",
     "output_type": "stream",
     "text": [
      "\n",
      "closing.\n",
      "\n",
      "closing.\n"
     ]
    },
    {
     "name": "stderr",
     "output_type": "stream",
     "text": [
      "[INFO] [1698264795.918447634] [rosbag2_storage]: Opened database '/home/ibhu/amr_assignmnet/AMR_WS2023/assign2/robile_bag_file/robile_bag_file.db3' for READ_ONLY.\n"
     ]
    },
    {
     "ename": "ValueError",
     "evalue": "x and y must have same first dimension, but have shapes (362,) and (513,)",
     "output_type": "error",
     "traceback": [
      "\u001b[0;31m---------------------------------------------------------------------------\u001b[0m",
      "\u001b[0;31mValueError\u001b[0m                                Traceback (most recent call last)",
      "\u001b[1;32m/home/ibhu/amr_assignmnet/AMR_WS2023/assign2/AMR_WS23_Assignment02_worksheet.ipynb Cell 14\u001b[0m line \u001b[0;36m3\n\u001b[1;32m     <a href='vscode-notebook-cell:/home/ibhu/amr_assignmnet/AMR_WS2023/assign2/AMR_WS23_Assignment02_worksheet.ipynb#X16sZmlsZQ%3D%3D?line=36'>37</a>\u001b[0m \u001b[39mif\u001b[39;00m scan_data:\n\u001b[1;32m     <a href='vscode-notebook-cell:/home/ibhu/amr_assignmnet/AMR_WS2023/assign2/AMR_WS23_Assignment02_worksheet.ipynb#X16sZmlsZQ%3D%3D?line=37'>38</a>\u001b[0m     plt\u001b[39m.\u001b[39mfigure()\n\u001b[0;32m---> <a href='vscode-notebook-cell:/home/ibhu/amr_assignmnet/AMR_WS2023/assign2/AMR_WS23_Assignment02_worksheet.ipynb#X16sZmlsZQ%3D%3D?line=38'>39</a>\u001b[0m     plt\u001b[39m.\u001b[39;49mplot(timestamps, scan_data\u001b[39m.\u001b[39;49mranges, label\u001b[39m=\u001b[39;49m\u001b[39m'\u001b[39;49m\u001b[39mScan Data\u001b[39;49m\u001b[39m'\u001b[39;49m)  \u001b[39m# Assuming you want to plot the 'ranges' field of LaserScan\u001b[39;00m\n\u001b[1;32m     <a href='vscode-notebook-cell:/home/ibhu/amr_assignmnet/AMR_WS2023/assign2/AMR_WS23_Assignment02_worksheet.ipynb#X16sZmlsZQ%3D%3D?line=39'>40</a>\u001b[0m     plt\u001b[39m.\u001b[39mxlabel(\u001b[39m'\u001b[39m\u001b[39mTimestamp\u001b[39m\u001b[39m'\u001b[39m)\n\u001b[1;32m     <a href='vscode-notebook-cell:/home/ibhu/amr_assignmnet/AMR_WS2023/assign2/AMR_WS23_Assignment02_worksheet.ipynb#X16sZmlsZQ%3D%3D?line=40'>41</a>\u001b[0m     plt\u001b[39m.\u001b[39mylabel(\u001b[39m'\u001b[39m\u001b[39mScan Value\u001b[39m\u001b[39m'\u001b[39m)\n",
      "File \u001b[0;32m/usr/lib/python3/dist-packages/matplotlib/pyplot.py:2757\u001b[0m, in \u001b[0;36mplot\u001b[0;34m(scalex, scaley, data, *args, **kwargs)\u001b[0m\n\u001b[1;32m   2755\u001b[0m \u001b[39m@_copy_docstring_and_deprecators\u001b[39m(Axes\u001b[39m.\u001b[39mplot)\n\u001b[1;32m   2756\u001b[0m \u001b[39mdef\u001b[39;00m \u001b[39mplot\u001b[39m(\u001b[39m*\u001b[39margs, scalex\u001b[39m=\u001b[39m\u001b[39mTrue\u001b[39;00m, scaley\u001b[39m=\u001b[39m\u001b[39mTrue\u001b[39;00m, data\u001b[39m=\u001b[39m\u001b[39mNone\u001b[39;00m, \u001b[39m*\u001b[39m\u001b[39m*\u001b[39mkwargs):\n\u001b[0;32m-> 2757\u001b[0m     \u001b[39mreturn\u001b[39;00m gca()\u001b[39m.\u001b[39;49mplot(\n\u001b[1;32m   2758\u001b[0m         \u001b[39m*\u001b[39;49margs, scalex\u001b[39m=\u001b[39;49mscalex, scaley\u001b[39m=\u001b[39;49mscaley,\n\u001b[1;32m   2759\u001b[0m         \u001b[39m*\u001b[39;49m\u001b[39m*\u001b[39;49m({\u001b[39m\"\u001b[39;49m\u001b[39mdata\u001b[39;49m\u001b[39m\"\u001b[39;49m: data} \u001b[39mif\u001b[39;49;00m data \u001b[39mis\u001b[39;49;00m \u001b[39mnot\u001b[39;49;00m \u001b[39mNone\u001b[39;49;00m \u001b[39melse\u001b[39;49;00m {}), \u001b[39m*\u001b[39;49m\u001b[39m*\u001b[39;49mkwargs)\n",
      "File \u001b[0;32m/usr/lib/python3/dist-packages/matplotlib/axes/_axes.py:1632\u001b[0m, in \u001b[0;36mAxes.plot\u001b[0;34m(self, scalex, scaley, data, *args, **kwargs)\u001b[0m\n\u001b[1;32m   1390\u001b[0m \u001b[39m\u001b[39m\u001b[39m\"\"\"\u001b[39;00m\n\u001b[1;32m   1391\u001b[0m \u001b[39mPlot y versus x as lines and/or markers.\u001b[39;00m\n\u001b[1;32m   1392\u001b[0m \n\u001b[0;32m   (...)\u001b[0m\n\u001b[1;32m   1629\u001b[0m \u001b[39m(``'green'``) or hex strings (``'#008000'``).\u001b[39;00m\n\u001b[1;32m   1630\u001b[0m \u001b[39m\"\"\"\u001b[39;00m\n\u001b[1;32m   1631\u001b[0m kwargs \u001b[39m=\u001b[39m cbook\u001b[39m.\u001b[39mnormalize_kwargs(kwargs, mlines\u001b[39m.\u001b[39mLine2D)\n\u001b[0;32m-> 1632\u001b[0m lines \u001b[39m=\u001b[39m [\u001b[39m*\u001b[39m\u001b[39mself\u001b[39m\u001b[39m.\u001b[39m_get_lines(\u001b[39m*\u001b[39margs, data\u001b[39m=\u001b[39mdata, \u001b[39m*\u001b[39m\u001b[39m*\u001b[39mkwargs)]\n\u001b[1;32m   1633\u001b[0m \u001b[39mfor\u001b[39;00m line \u001b[39min\u001b[39;00m lines:\n\u001b[1;32m   1634\u001b[0m     \u001b[39mself\u001b[39m\u001b[39m.\u001b[39madd_line(line)\n",
      "File \u001b[0;32m/usr/lib/python3/dist-packages/matplotlib/axes/_base.py:312\u001b[0m, in \u001b[0;36m_process_plot_var_args.__call__\u001b[0;34m(self, data, *args, **kwargs)\u001b[0m\n\u001b[1;32m    310\u001b[0m     this \u001b[39m+\u001b[39m\u001b[39m=\u001b[39m args[\u001b[39m0\u001b[39m],\n\u001b[1;32m    311\u001b[0m     args \u001b[39m=\u001b[39m args[\u001b[39m1\u001b[39m:]\n\u001b[0;32m--> 312\u001b[0m \u001b[39myield from\u001b[39;00m \u001b[39mself\u001b[39;49m\u001b[39m.\u001b[39;49m_plot_args(this, kwargs)\n",
      "File \u001b[0;32m/usr/lib/python3/dist-packages/matplotlib/axes/_base.py:498\u001b[0m, in \u001b[0;36m_process_plot_var_args._plot_args\u001b[0;34m(self, tup, kwargs, return_kwargs)\u001b[0m\n\u001b[1;32m    495\u001b[0m     \u001b[39mself\u001b[39m\u001b[39m.\u001b[39maxes\u001b[39m.\u001b[39myaxis\u001b[39m.\u001b[39mupdate_units(y)\n\u001b[1;32m    497\u001b[0m \u001b[39mif\u001b[39;00m x\u001b[39m.\u001b[39mshape[\u001b[39m0\u001b[39m] \u001b[39m!=\u001b[39m y\u001b[39m.\u001b[39mshape[\u001b[39m0\u001b[39m]:\n\u001b[0;32m--> 498\u001b[0m     \u001b[39mraise\u001b[39;00m \u001b[39mValueError\u001b[39;00m(\u001b[39mf\u001b[39m\u001b[39m\"\u001b[39m\u001b[39mx and y must have same first dimension, but \u001b[39m\u001b[39m\"\u001b[39m\n\u001b[1;32m    499\u001b[0m                      \u001b[39mf\u001b[39m\u001b[39m\"\u001b[39m\u001b[39mhave shapes \u001b[39m\u001b[39m{\u001b[39;00mx\u001b[39m.\u001b[39mshape\u001b[39m}\u001b[39;00m\u001b[39m and \u001b[39m\u001b[39m{\u001b[39;00my\u001b[39m.\u001b[39mshape\u001b[39m}\u001b[39;00m\u001b[39m\"\u001b[39m)\n\u001b[1;32m    500\u001b[0m \u001b[39mif\u001b[39;00m x\u001b[39m.\u001b[39mndim \u001b[39m>\u001b[39m \u001b[39m2\u001b[39m \u001b[39mor\u001b[39;00m y\u001b[39m.\u001b[39mndim \u001b[39m>\u001b[39m \u001b[39m2\u001b[39m:\n\u001b[1;32m    501\u001b[0m     \u001b[39mraise\u001b[39;00m \u001b[39mValueError\u001b[39;00m(\u001b[39mf\u001b[39m\u001b[39m\"\u001b[39m\u001b[39mx and y can be no greater than 2D, but have \u001b[39m\u001b[39m\"\u001b[39m\n\u001b[1;32m    502\u001b[0m                      \u001b[39mf\u001b[39m\u001b[39m\"\u001b[39m\u001b[39mshapes \u001b[39m\u001b[39m{\u001b[39;00mx\u001b[39m.\u001b[39mshape\u001b[39m}\u001b[39;00m\u001b[39m and \u001b[39m\u001b[39m{\u001b[39;00my\u001b[39m.\u001b[39mshape\u001b[39m}\u001b[39;00m\u001b[39m\"\u001b[39m)\n",
      "\u001b[0;31mValueError\u001b[0m: x and y must have same first dimension, but have shapes (362,) and (513,)"
     ]
    },
    {
     "data": {
      "image/png": "[encoded data removed]",
      "text/plain": [
       "<Figure size 640x480 with 1 Axes>"
      ]
     },
     "metadata": {},
     "output_type": "display_data"
    }
   ],
   "source": [
    "bag_file_path = '/home/ibhu/amr_assignmnet/AMR_WS2023/assign2/robile_bag_file/robile_bag_file.db3'\n",
    "scan_topic_name = '/scan'\n",
    "\n",
    "\n",
    "# Configure storage and converter options.\n",
    "storage_options = StorageOptions(uri=bag_file_path,storage_id=\"sqlite3\")\n",
    "converter_options = ConverterOptions(input_serialization_format=\"cdr\", output_serialization_format=\"cdr\")\n",
    "# Initialize SequentialReader.\n",
    "\n",
    "reader = SequentialReader()\n",
    "reader.open(storage_options, converter_options)\n",
    "\n",
    "# Find and store the first set of scan data.\n",
    "\n",
    "scan_data = []\n",
    "timestamps = []\n",
    "\n",
    "while reader.has_next():\n",
    "        topic, data, timestamp = reader.read_next()\n",
    "\n",
    "        if topic.endswith(\"/scan\"):  # Adjust the topic name as needed\n",
    "            msg = deserialize_message(data, LaserScan)  # Use the appropriate message type\n",
    "\n",
    "            # Assuming the scan data is in a list called \"ranges\"\n",
    "            scan_data.extend(msg.ranges)\n",
    "            timestamps.extend([timestamp] * len(msg.ranges))\n",
    "\n",
    "\n",
    "        # print(scan_data)\n",
    "\n",
    "# raise NotImplementedError()\n",
    "\n",
    "# plt.figure()\n",
    "# plt.plot(timestamps, scan_data, label='Scan Data')\n",
    "# plt.xlabel('Timestamp')\n",
    "# plt.ylabel('Scan Value')\n",
    "# plt.title('Scan Data Plot')\n",
    "# plt.legend()\n",
    "# plt.show()\n",
    "\n"
   ]
  },
  {
   "cell_type": "markdown",
   "id": "a2f818b0",
   "metadata": {
    "deletable": false,
    "editable": false,
    "nbgrader": {
     "cell_type": "markdown",
     "checksum": "9df7d4fabd820383e601270c46ecb391",
     "grade": false,
     "grade_id": "multi_sensor_data_visual_analysis_G_Description0",
     "locked": true,
     "schema_version": 3,
     "solution": false,
     "task": false
    }
   },
   "source": [
    "\n",
    "### 1.1 Median filter (on 2D LiDAR data)\n",
    "In median filter, based on the sliding window of specific length, the central point in the window is replaced by the median of the points in the same window. This is helpful to remove any outliers in the sensor data. Apply median filter on both 2D LiDAR data and acceleration in `Y-axis` of IMU sensor readings.\n",
    "\n",
    "For a given time from the start of simulation, plot `y` vs `x` coordinates for 2D LiDAR data before and after applying the filter.\n",
    "\n",
    "Please refer to this [wiki page](https://en.wikipedia.org/wiki/Median_filter) for example of filtering 1D data.\n",
    "\n",
    "\n",
    "**Note:** Please remember to include title, grids, labels, and legends while plotting.\n"
   ]
  },
  {
   "cell_type": "code",
   "execution_count": null,
   "id": "360672b0",
   "metadata": {
    "deletable": false,
    "nbgrader": {
     "cell_type": "code",
     "checksum": "251443e239a7c405c80c54b56aa3c1da",
     "grade": true,
     "grade_id": "multi_sensor_data_visual_analysis_G",
     "locked": false,
     "points": 0,
     "schema_version": 3,
     "solution": true,
     "task": false
    }
   },
   "outputs": [],
   "source": [
    "# YOUR CODE HERE\n",
    "# raise NotImplementedError()"
   ]
  },
  {
   "cell_type": "markdown",
   "id": "ad4f58e3",
   "metadata": {
    "deletable": false,
    "editable": false,
    "nbgrader": {
     "cell_type": "markdown",
     "checksum": "b0516ee7eb92351ca2615d59c6195ac8",
     "grade": false,
     "grade_id": "multi_sensor_data_visual_analysis_H_Description0",
     "locked": true,
     "schema_version": 3,
     "solution": false,
     "task": false
    }
   },
   "source": [
    "\n",
    "### 1.2 Median filter (on IMU data)\n",
    "\n",
    "Similarly, plot the `acceleration in y-direction` vs `time` graph before and after filtering for IMU data.\n"
   ]
  },
  {
   "cell_type": "code",
   "execution_count": null,
   "id": "bf60bfe1",
   "metadata": {
    "deletable": false,
    "nbgrader": {
     "cell_type": "code",
     "checksum": "f4e89ab2352a8c9fbd7eefe736c7b36c",
     "grade": true,
     "grade_id": "multi_sensor_data_visual_analysis_H",
     "locked": false,
     "points": 0,
     "schema_version": 3,
     "solution": true,
     "task": false
    }
   },
   "outputs": [],
   "source": [
    "# YOUR CODE HERE\n",
    "raise NotImplementedError()"
   ]
  },
  {
   "cell_type": "markdown",
   "id": "3a0deefc",
   "metadata": {
    "deletable": false,
    "editable": false,
    "nbgrader": {
     "cell_type": "markdown",
     "checksum": "65dcec5c18d3761bbae5eb4dcc5dfa25",
     "grade": false,
     "grade_id": "multi_sensor_data_visual_analysis_I_Description0",
     "locked": true,
     "schema_version": 3,
     "solution": false,
     "task": false
    }
   },
   "source": [
    "\n",
    "\n",
    "### 2.1 Mean filter (on 2D LiDAR data)\n",
    "\n",
    "Similar to median filter, the point under consideration is replaced by the mean of all points in the same window. This is generally used to smoothen the noise in the LiDAR data.\n",
    "\n",
    "For a given time from the start of simulation, plot `y` vs `x` coordinates for 2D LiDAR data before and after applying the filter.\n"
   ]
  },
  {
   "cell_type": "code",
   "execution_count": null,
   "id": "b0dd2b13",
   "metadata": {
    "deletable": false,
    "nbgrader": {
     "cell_type": "code",
     "checksum": "f0de6573412eeb10a1199c7b1689cc8a",
     "grade": true,
     "grade_id": "multi_sensor_data_visual_analysis_I",
     "locked": false,
     "points": 0,
     "schema_version": 3,
     "solution": true,
     "task": false
    }
   },
   "outputs": [],
   "source": [
    "# YOUR CODE HERE\n",
    "raise NotImplementedError()"
   ]
  },
  {
   "cell_type": "markdown",
   "id": "4860de2b",
   "metadata": {
    "deletable": false,
    "editable": false,
    "nbgrader": {
     "cell_type": "markdown",
     "checksum": "d507bd79c051093364b4de35e23e4bcc",
     "grade": false,
     "grade_id": "multi_sensor_data_visual_analysis_J_Description0",
     "locked": true,
     "schema_version": 3,
     "solution": false,
     "task": false
    }
   },
   "source": [
    "\n",
    "### 2.2 Mean filter (on 2D LiDAR data)\n",
    "\n",
    "Similarly, plot the `acceleration in y-direction` vs `time` graph before and after filtering for IMU data.\n"
   ]
  },
  {
   "cell_type": "code",
   "execution_count": null,
   "id": "7b1449d1",
   "metadata": {
    "deletable": false,
    "nbgrader": {
     "cell_type": "code",
     "checksum": "aabe3edbe185da4085591012ce9d857f",
     "grade": true,
     "grade_id": "multi_sensor_data_visual_analysis_J",
     "locked": false,
     "points": 0,
     "schema_version": 3,
     "solution": true,
     "task": false
    }
   },
   "outputs": [],
   "source": [
    "# YOUR CODE HERE\n",
    "raise NotImplementedError()"
   ]
  }
 ],
 "metadata": {
  "kernelspec": {
   "display_name": "Python 3 (ipykernel)",
   "language": "python",
   "name": "python3"
  },
  "language_info": {
   "codemirror_mode": {
    "name": "ipython",
    "version": 3
   },
   "file_extension": ".py",
   "mimetype": "text/x-python",
   "name": "python",
   "nbconvert_exporter": "python",
   "pygments_lexer": "ipython3",
   "version": "3.10.11"
  }
 },
 "nbformat": 4,
 "nbformat_minor": 5
}
